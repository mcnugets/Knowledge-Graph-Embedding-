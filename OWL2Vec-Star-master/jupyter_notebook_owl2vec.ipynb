{
 "cells": [
  {
   "cell_type": "markdown",
   "id": "75a6c5ab",
   "metadata": {},
   "source": [
    "## Embedding 2.5"
   ]
  },
  {
   "cell_type": "code",
   "execution_count": 13,
   "id": "5b1d78cd",
   "metadata": {},
   "outputs": [
    {
     "name": "stdout",
     "output_type": "stream",
     "text": [
      "Requirement already satisfied: gensim in c:\\users\\sulta\\appdata\\local\\programs\\python\\python39\\lib\\site-packages (4.1.2)\n",
      "Requirement already satisfied: numpy>=1.17.0 in c:\\users\\sulta\\appdata\\local\\programs\\python\\python39\\lib\\site-packages (from gensim) (1.22.3)\n",
      "Requirement already satisfied: smart-open>=1.8.1 in c:\\users\\sulta\\appdata\\local\\programs\\python\\python39\\lib\\site-packages (from gensim) (5.2.1)\n",
      "Requirement already satisfied: scipy>=0.18.1 in c:\\users\\sulta\\appdata\\local\\programs\\python\\python39\\lib\\site-packages (from gensim) (1.8.0)\n",
      "Requirement already satisfied: Cython==0.29.23 in c:\\users\\sulta\\appdata\\local\\programs\\python\\python39\\lib\\site-packages (from gensim) (0.29.23)\n",
      "Note: you may need to restart the kernel to use updated packages.\n"
     ]
    },
    {
     "name": "stderr",
     "output_type": "stream",
     "text": [
      "WARNING: You are using pip version 22.0.4; however, version 22.1 is available.\n",
      "You should consider upgrading via the 'c:\\Users\\sulta\\AppData\\Local\\Programs\\Python\\Python39\\python.exe -m pip install --upgrade pip' command.\n"
     ]
    }
   ],
   "source": [
    "pip install gensim"
   ]
  },
  {
   "cell_type": "code",
   "execution_count": 2,
   "id": "afd33fb5",
   "metadata": {},
   "outputs": [
    {
     "name": "stdout",
     "output_type": "stream",
     "text": [
      "Collecting scikit-learn\n",
      "  Downloading scikit_learn-1.1.0-cp39-cp39-win_amd64.whl (7.3 MB)\n",
      "     ---------------------------------------- 7.3/7.3 MB 8.2 MB/s eta 0:00:00\n",
      "Collecting joblib>=1.0.0\n",
      "  Using cached joblib-1.1.0-py2.py3-none-any.whl (306 kB)\n",
      "Requirement already satisfied: scipy>=1.3.2 in c:\\users\\sulta\\appdata\\local\\programs\\python\\python39\\lib\\site-packages (from scikit-learn) (1.8.0)\n",
      "Collecting threadpoolctl>=2.0.0\n",
      "  Using cached threadpoolctl-3.1.0-py3-none-any.whl (14 kB)\n",
      "Requirement already satisfied: numpy>=1.17.3 in c:\\users\\sulta\\appdata\\local\\programs\\python\\python39\\lib\\site-packages (from scikit-learn) (1.22.3)\n",
      "Installing collected packages: threadpoolctl, joblib, scikit-learn\n",
      "Successfully installed joblib-1.1.0 scikit-learn-1.1.0 threadpoolctl-3.1.0\n",
      "Note: you may need to restart the kernel to use updated packages.\n"
     ]
    },
    {
     "name": "stderr",
     "output_type": "stream",
     "text": [
      "WARNING: You are using pip version 22.0.4; however, version 22.1 is available.\n",
      "You should consider upgrading via the 'c:\\Users\\sulta\\AppData\\Local\\Programs\\Python\\Python39\\python.exe -m pip install --upgrade pip' command.\n"
     ]
    }
   ],
   "source": [
    "pip install scikit-learn"
   ]
  },
  {
   "cell_type": "code",
   "execution_count": 4,
   "id": "7d2744d3",
   "metadata": {},
   "outputs": [
    {
     "name": "stdout",
     "output_type": "stream",
     "text": [
      "Collecting nltk\n",
      "  Using cached nltk-3.7-py3-none-any.whl (1.5 MB)\n",
      "Collecting tqdm\n",
      "  Using cached tqdm-4.64.0-py2.py3-none-any.whl (78 kB)\n",
      "Requirement already satisfied: click in c:\\users\\sulta\\appdata\\local\\programs\\python\\python39\\lib\\site-packages (from nltk) (7.0)\n",
      "Requirement already satisfied: joblib in c:\\users\\sulta\\appdata\\local\\programs\\python\\python39\\lib\\site-packages (from nltk) (1.1.0)\n",
      "Collecting regex>=2021.8.3\n",
      "  Using cached regex-2022.4.24-cp39-cp39-win_amd64.whl (262 kB)\n",
      "Requirement already satisfied: colorama in c:\\users\\sulta\\appdata\\local\\programs\\python\\python39\\lib\\site-packages (from tqdm->nltk) (0.4.4)\n",
      "Installing collected packages: tqdm, regex, nltk\n",
      "Successfully installed nltk-3.7 regex-2022.4.24 tqdm-4.64.0\n",
      "Note: you may need to restart the kernel to use updated packages.\n"
     ]
    },
    {
     "name": "stderr",
     "output_type": "stream",
     "text": [
      "WARNING: You are using pip version 22.0.4; however, version 22.1 is available.\n",
      "You should consider upgrading via the 'c:\\Users\\sulta\\AppData\\Local\\Programs\\Python\\Python39\\python.exe -m pip install --upgrade pip' command.\n"
     ]
    }
   ],
   "source": [
    "pip install nltk\n"
   ]
  },
  {
   "cell_type": "code",
   "execution_count": 14,
   "id": "485bc26e",
   "metadata": {},
   "outputs": [
    {
     "name": "stdout",
     "output_type": "stream",
     "text": [
      "Requirement already satisfied: rdflib in c:\\users\\sulta\\appdata\\local\\programs\\python\\python39\\lib\\site-packages (6.1.1)\n",
      "Requirement already satisfied: setuptools in c:\\users\\sulta\\appdata\\local\\programs\\python\\python39\\lib\\site-packages (from rdflib) (62.0.0)\n",
      "Requirement already satisfied: pyparsing in c:\\users\\sulta\\appdata\\local\\programs\\python\\python39\\lib\\site-packages (from rdflib) (3.0.8)\n",
      "Requirement already satisfied: isodate in c:\\users\\sulta\\appdata\\local\\programs\\python\\python39\\lib\\site-packages (from rdflib) (0.6.1)\n",
      "Requirement already satisfied: six in c:\\users\\sulta\\appdata\\local\\programs\\python\\python39\\lib\\site-packages (from isodate->rdflib) (1.16.0)\n",
      "Note: you may need to restart the kernel to use updated packages.\n"
     ]
    },
    {
     "name": "stderr",
     "output_type": "stream",
     "text": [
      "WARNING: You are using pip version 22.0.4; however, version 22.1 is available.\n",
      "You should consider upgrading via the 'c:\\Users\\sulta\\AppData\\Local\\Programs\\Python\\Python39\\python.exe -m pip install --upgrade pip' command.\n"
     ]
    }
   ],
   "source": [
    "pip install rdflib"
   ]
  },
  {
   "cell_type": "code",
   "execution_count": 7,
   "id": "86503238",
   "metadata": {},
   "outputs": [
    {
     "name": "stdout",
     "output_type": "stream",
     "text": [
      "Collecting owlready2\n",
      "  Using cached Owlready2-0.37-py3-none-any.whl\n",
      "Installing collected packages: owlready2\n",
      "Successfully installed owlready2-0.37\n",
      "Note: you may need to restart the kernel to use updated packages.\n"
     ]
    },
    {
     "name": "stderr",
     "output_type": "stream",
     "text": [
      "WARNING: You are using pip version 22.0.4; however, version 22.1 is available.\n",
      "You should consider upgrading via the 'c:\\Users\\sulta\\AppData\\Local\\Programs\\Python\\Python39\\python.exe -m pip install --upgrade pip' command.\n"
     ]
    }
   ],
   "source": [
    "pip install owlready2"
   ]
  },
  {
   "cell_type": "code",
   "execution_count": 9,
   "id": "ed797de7",
   "metadata": {},
   "outputs": [
    {
     "name": "stdout",
     "output_type": "stream",
     "text": [
      "Requirement already satisfied: tensorflow in c:\\users\\sulta\\appdata\\local\\programs\\python\\python39\\lib\\site-packages (2.8.0)\n",
      "Requirement already satisfied: astunparse>=1.6.0 in c:\\users\\sulta\\appdata\\local\\programs\\python\\python39\\lib\\site-packages (from tensorflow) (1.6.3)\n",
      "Requirement already satisfied: tensorflow-io-gcs-filesystem>=0.23.1 in c:\\users\\sulta\\appdata\\local\\programs\\python\\python39\\lib\\site-packages (from tensorflow) (0.24.0)\n",
      "Requirement already satisfied: libclang>=9.0.1 in c:\\users\\sulta\\appdata\\local\\programs\\python\\python39\\lib\\site-packages (from tensorflow) (13.0.0)\n",
      "Requirement already satisfied: gast>=0.2.1 in c:\\users\\sulta\\appdata\\local\\programs\\python\\python39\\lib\\site-packages (from tensorflow) (0.5.3)\n",
      "Requirement already satisfied: absl-py>=0.4.0 in c:\\users\\sulta\\appdata\\local\\programs\\python\\python39\\lib\\site-packages (from tensorflow) (1.0.0)\n",
      "Requirement already satisfied: keras-preprocessing>=1.1.1 in c:\\users\\sulta\\appdata\\local\\programs\\python\\python39\\lib\\site-packages (from tensorflow) (1.1.2)\n",
      "Requirement already satisfied: opt-einsum>=2.3.2 in c:\\users\\sulta\\appdata\\local\\programs\\python\\python39\\lib\\site-packages (from tensorflow) (3.3.0)\n",
      "Requirement already satisfied: termcolor>=1.1.0 in c:\\users\\sulta\\appdata\\local\\programs\\python\\python39\\lib\\site-packages (from tensorflow) (1.1.0)\n",
      "Requirement already satisfied: tensorboard<2.9,>=2.8 in c:\\users\\sulta\\appdata\\local\\programs\\python\\python39\\lib\\site-packages (from tensorflow) (2.8.0)\n",
      "Requirement already satisfied: six>=1.12.0 in c:\\users\\sulta\\appdata\\local\\programs\\python\\python39\\lib\\site-packages (from tensorflow) (1.16.0)\n",
      "Requirement already satisfied: protobuf>=3.9.2 in c:\\users\\sulta\\appdata\\local\\programs\\python\\python39\\lib\\site-packages (from tensorflow) (3.20.0)\n",
      "Requirement already satisfied: flatbuffers>=1.12 in c:\\users\\sulta\\appdata\\local\\programs\\python\\python39\\lib\\site-packages (from tensorflow) (2.0)\n",
      "Requirement already satisfied: setuptools in c:\\users\\sulta\\appdata\\local\\programs\\python\\python39\\lib\\site-packages (from tensorflow) (62.0.0)\n",
      "Requirement already satisfied: tf-estimator-nightly==2.8.0.dev2021122109 in c:\\users\\sulta\\appdata\\local\\programs\\python\\python39\\lib\\site-packages (from tensorflow) (2.8.0.dev2021122109)\n",
      "Requirement already satisfied: typing-extensions>=3.6.6 in c:\\users\\sulta\\appdata\\local\\programs\\python\\python39\\lib\\site-packages (from tensorflow) (4.1.1)\n",
      "Requirement already satisfied: keras<2.9,>=2.8.0rc0 in c:\\users\\sulta\\appdata\\local\\programs\\python\\python39\\lib\\site-packages (from tensorflow) (2.8.0)\n",
      "Requirement already satisfied: grpcio<2.0,>=1.24.3 in c:\\users\\sulta\\appdata\\local\\programs\\python\\python39\\lib\\site-packages (from tensorflow) (1.44.0)\n",
      "Requirement already satisfied: wrapt>=1.11.0 in c:\\users\\sulta\\appdata\\local\\programs\\python\\python39\\lib\\site-packages (from tensorflow) (1.14.0)\n",
      "Requirement already satisfied: h5py>=2.9.0 in c:\\users\\sulta\\appdata\\local\\programs\\python\\python39\\lib\\site-packages (from tensorflow) (3.6.0)\n",
      "Requirement already satisfied: numpy>=1.20 in c:\\users\\sulta\\appdata\\local\\programs\\python\\python39\\lib\\site-packages (from tensorflow) (1.22.3)\n",
      "Requirement already satisfied: google-pasta>=0.1.1 in c:\\users\\sulta\\appdata\\local\\programs\\python\\python39\\lib\\site-packages (from tensorflow) (0.2.0)\n",
      "Requirement already satisfied: wheel<1.0,>=0.23.0 in c:\\users\\sulta\\appdata\\local\\programs\\python\\python39\\lib\\site-packages (from astunparse>=1.6.0->tensorflow) (0.37.1)\n",
      "Requirement already satisfied: google-auth-oauthlib<0.5,>=0.4.1 in c:\\users\\sulta\\appdata\\local\\programs\\python\\python39\\lib\\site-packages (from tensorboard<2.9,>=2.8->tensorflow) (0.4.6)\n",
      "Requirement already satisfied: markdown>=2.6.8 in c:\\users\\sulta\\appdata\\local\\programs\\python\\python39\\lib\\site-packages (from tensorboard<2.9,>=2.8->tensorflow) (3.3.6)\n",
      "Requirement already satisfied: tensorboard-data-server<0.7.0,>=0.6.0 in c:\\users\\sulta\\appdata\\local\\programs\\python\\python39\\lib\\site-packages (from tensorboard<2.9,>=2.8->tensorflow) (0.6.1)\n",
      "Requirement already satisfied: tensorboard-plugin-wit>=1.6.0 in c:\\users\\sulta\\appdata\\local\\programs\\python\\python39\\lib\\site-packages (from tensorboard<2.9,>=2.8->tensorflow) (1.8.1)\n",
      "Requirement already satisfied: requests<3,>=2.21.0 in c:\\users\\sulta\\appdata\\local\\programs\\python\\python39\\lib\\site-packages (from tensorboard<2.9,>=2.8->tensorflow) (2.27.1)\n",
      "Requirement already satisfied: google-auth<3,>=1.6.3 in c:\\users\\sulta\\appdata\\local\\programs\\python\\python39\\lib\\site-packages (from tensorboard<2.9,>=2.8->tensorflow) (2.6.3)\n",
      "Requirement already satisfied: werkzeug>=0.11.15 in c:\\users\\sulta\\appdata\\local\\programs\\python\\python39\\lib\\site-packages (from tensorboard<2.9,>=2.8->tensorflow) (2.1.1)\n",
      "Requirement already satisfied: cachetools<6.0,>=2.0.0 in c:\\users\\sulta\\appdata\\local\\programs\\python\\python39\\lib\\site-packages (from google-auth<3,>=1.6.3->tensorboard<2.9,>=2.8->tensorflow) (5.0.0)\n",
      "Requirement already satisfied: pyasn1-modules>=0.2.1 in c:\\users\\sulta\\appdata\\local\\programs\\python\\python39\\lib\\site-packages (from google-auth<3,>=1.6.3->tensorboard<2.9,>=2.8->tensorflow) (0.2.8)\n",
      "Requirement already satisfied: rsa<5,>=3.1.4 in c:\\users\\sulta\\appdata\\local\\programs\\python\\python39\\lib\\site-packages (from google-auth<3,>=1.6.3->tensorboard<2.9,>=2.8->tensorflow) (4.8)\n",
      "Requirement already satisfied: requests-oauthlib>=0.7.0 in c:\\users\\sulta\\appdata\\local\\programs\\python\\python39\\lib\\site-packages (from google-auth-oauthlib<0.5,>=0.4.1->tensorboard<2.9,>=2.8->tensorflow) (1.3.1)\n",
      "Requirement already satisfied: importlib-metadata>=4.4 in c:\\users\\sulta\\appdata\\local\\programs\\python\\python39\\lib\\site-packages (from markdown>=2.6.8->tensorboard<2.9,>=2.8->tensorflow) (4.11.3)\n",
      "Requirement already satisfied: idna<4,>=2.5 in c:\\users\\sulta\\appdata\\local\\programs\\python\\python39\\lib\\site-packages (from requests<3,>=2.21.0->tensorboard<2.9,>=2.8->tensorflow) (3.3)\n",
      "Requirement already satisfied: urllib3<1.27,>=1.21.1 in c:\\users\\sulta\\appdata\\local\\programs\\python\\python39\\lib\\site-packages (from requests<3,>=2.21.0->tensorboard<2.9,>=2.8->tensorflow) (1.26.9)\n",
      "Requirement already satisfied: charset-normalizer~=2.0.0 in c:\\users\\sulta\\appdata\\local\\programs\\python\\python39\\lib\\site-packages (from requests<3,>=2.21.0->tensorboard<2.9,>=2.8->tensorflow) (2.0.12)\n",
      "Requirement already satisfied: certifi>=2017.4.17 in c:\\users\\sulta\\appdata\\local\\programs\\python\\python39\\lib\\site-packages (from requests<3,>=2.21.0->tensorboard<2.9,>=2.8->tensorflow) (2021.10.8)\n",
      "Requirement already satisfied: zipp>=0.5 in c:\\users\\sulta\\appdata\\local\\programs\\python\\python39\\lib\\site-packages (from importlib-metadata>=4.4->markdown>=2.6.8->tensorboard<2.9,>=2.8->tensorflow) (3.8.0)\n",
      "Requirement already satisfied: pyasn1<0.5.0,>=0.4.6 in c:\\users\\sulta\\appdata\\local\\programs\\python\\python39\\lib\\site-packages (from pyasn1-modules>=0.2.1->google-auth<3,>=1.6.3->tensorboard<2.9,>=2.8->tensorflow) (0.4.8)\n",
      "Requirement already satisfied: oauthlib>=3.0.0 in c:\\users\\sulta\\appdata\\local\\programs\\python\\python39\\lib\\site-packages (from requests-oauthlib>=0.7.0->google-auth-oauthlib<0.5,>=0.4.1->tensorboard<2.9,>=2.8->tensorflow) (3.2.0)\n",
      "Note: you may need to restart the kernel to use updated packages.\n"
     ]
    },
    {
     "name": "stderr",
     "output_type": "stream",
     "text": [
      "WARNING: You are using pip version 22.0.4; however, version 22.1 is available.\n",
      "You should consider upgrading via the 'c:\\Users\\sulta\\AppData\\Local\\Programs\\Python\\Python39\\python.exe -m pip install --upgrade pip' command.\n"
     ]
    }
   ],
   "source": [
    "pip install tensorflow"
   ]
  },
  {
   "cell_type": "code",
   "execution_count": 3,
   "id": "2658935d",
   "metadata": {},
   "outputs": [
    {
     "name": "stderr",
     "output_type": "stream",
     "text": [
      "* Owlready2 * Warning: optimized Cython parser module 'owlready2_optimized' is not available, defaulting to slower Python implementation\n",
      "[nltk_data] Downloading package punkt to\n",
      "[nltk_data]     C:\\Users\\sulta\\AppData\\Roaming\\nltk_data...\n",
      "[nltk_data]   Package punkt is already up-to-date!\n",
      "INFO: Access the ontology ...\n",
      "INFO: There are 6595 triples in the ontology\n",
      "INFO: Calculate the ontology projection ...\n",
      "INFO: Creating ontology graph projection...\n",
      "INFO: \tExtracting subsumption triples\n",
      "INFO: \t\tTime extracting subsumption: 0.33484387397766113 seconds \n",
      "INFO: \tExtracting equivalence triples\n",
      "INFO: \t\tTime extracting equivalences: 0.09311556816101074 seconds \n",
      "INFO: \tExtracting class membership triples.\n",
      "INFO: \t\tTime extracting class membership: 2.875257730484009 seconds \n",
      "INFO: \tExtracting sameAs triples\n",
      "INFO: \t\tTime extracting sameAs: 0.0199587345123291 seconds \n",
      "INFO: \tExtracting triples associated to hasIngredient\n",
      "INFO: \t\tTime extracting triples for property: 0.7605447769165039 seconds \n",
      "INFO: \tExtracting triples associated to servedInRestaurant\n",
      "INFO: \t\tTime extracting triples for property: 0.6723341941833496 seconds \n",
      "INFO: \tExtracting triples associated to hasValue\n",
      "INFO: \t\tTime extracting triples for property: 0.5253849029541016 seconds \n",
      "INFO: \tExtracting triples associated to amountCurrency\n",
      "INFO: \t\tTime extracting triples for property: 0.45966243743896484 seconds \n",
      "INFO: \tExtracting triples associated to locatedInCountry\n",
      "INFO: \t\tTime extracting triples for property: 0.6593856811523438 seconds \n",
      "INFO: \tExtracting triples associated to locatedInCity\n",
      "INFO: \t\tTime extracting triples for property: 0.45610904693603516 seconds \n",
      "INFO: \tExtracting triples associated to locatedInAddress\n",
      "INFO: \t\tTime extracting triples for property: 0.5366957187652588 seconds \n",
      "INFO: \tExtracting triples associated to servesMenuItem\n",
      "INFO: \t\tTime extracting triples for property: 0.6989264488220215 seconds \n",
      "INFO: \tExtracting triples associated to locatedInState\n",
      "INFO: \t\tTime extracting triples for property: 0.4551961421966553 seconds \n",
      "INFO: \tExtracting triples associated to locatedIn\n",
      "INFO: \t\tTime extracting triples for property: 0.44503164291381836 seconds \n",
      "INFO: \tExtracting triples associated to hasCity\n",
      "INFO: \t\tTime extracting triples for property: 0.4788680076599121 seconds \n",
      "INFO: \tExtracting triples associated to hasLocation\n",
      "INFO: \t\tTime extracting triples for property: 0.5799529552459717 seconds \n",
      "INFO: \tExtracting triples associated to isIngredientOf\n",
      "INFO: \t\tTime extracting triples for property: 0.7100622653961182 seconds \n",
      "INFO: \tExtracting triples associated to locatedInAdress\n",
      "INFO: \t\tTime extracting triples for property: 0.5470349788665771 seconds \n",
      "INFO: \tExtracting triples associated to hasState\n",
      "INFO: \t\tTime extracting triples for property: 0.58164381980896 seconds \n",
      "INFO: \tExtracting triples associated to serves\n",
      "INFO: \t\tTime extracting triples for property: 0.46056556701660156 seconds \n",
      "INFO: \tExtracting triples associated to servedIn\n",
      "INFO: \t\tTime extracting triples for property: 0.4313528537750244 seconds \n",
      "INFO: \tExtracting triples associated to hasAdress\n",
      "INFO: \t\tTime extracting triples for property: 0.4875664710998535 seconds \n",
      "INFO: \tExtracting data property assertions\n",
      "INFO: \t\tTime extracting data property assertions: 0.9274370670318604 seconds \n",
      "INFO: \tExtracting complex equivalence axioms\n",
      "INFO: \t\tTime extracting complex equivalence axioms: 2.5684902667999268 seconds \n",
      "INFO: \tExtracting annotations.\n",
      "INFO: \t\tTime extracting annotations: 1.1638445854187012 seconds \n",
      "INFO: Projection created into a Graph object (RDFlib library)\n",
      "INFO: Projection saved into turtle file: ./cache/projection.ttl\n",
      "INFO: Extract classes and individuals ...\n",
      "INFO: Extract axioms ...\n",
      "INFO: Extract annotations ...\n",
      "INFO: Generate URI document ...\n",
      "INFO: Extracted 9979 walks for 152 seed entities\n",
      "INFO: Extracted 6814 axiom sentences\n",
      "INFO: Generate literal document ...\n",
      "INFO: Extracted 18 annotation sentences\n",
      "INFO: Generate mixture document ...\n",
      "INFO: URI_Doc: 16793, Lit_Doc: 17039, Mix_Doc: 16793\n",
      "INFO: Time for document construction: 28.406898260116577 seconds\n",
      "INFO: Train the language model ...\n",
      "INFO: collecting all words and their counts\n",
      "INFO: PROGRESS: at sentence #0, processed 0 words, keeping 0 word types\n",
      "INFO: PROGRESS: at sentence #10000, processed 54358 words, keeping 3482 word types\n",
      "INFO: PROGRESS: at sentence #20000, processed 108353 words, keeping 4178 word types\n",
      "INFO: PROGRESS: at sentence #30000, processed 162541 words, keeping 4581 word types\n",
      "INFO: PROGRESS: at sentence #40000, processed 216406 words, keeping 4871 word types\n",
      "INFO: PROGRESS: at sentence #50000, processed 270116 words, keeping 5087 word types\n",
      "INFO: collected 5095 word types from a corpus of 273531 raw words and 50625 sentences\n",
      "INFO: Creating a fresh vocabulary\n",
      "INFO: Word2Vec lifecycle event {'msg': 'effective_min_count=1 retains 5095 unique words (100.0%% of original 5095, drops 0)', 'datetime': '2022-05-15T15:31:59.611475', 'gensim': '4.1.2', 'python': '3.9.5 (tags/v3.9.5:0a7dcbd, May  3 2021, 17:27:52) [MSC v.1928 64 bit (AMD64)]', 'platform': 'Windows-10-10.0.19044-SP0', 'event': 'prepare_vocab'}\n",
      "INFO: Word2Vec lifecycle event {'msg': 'effective_min_count=1 leaves 273531 word corpus (100.0%% of original 273531, drops 0)', 'datetime': '2022-05-15T15:31:59.612473', 'gensim': '4.1.2', 'python': '3.9.5 (tags/v3.9.5:0a7dcbd, May  3 2021, 17:27:52) [MSC v.1928 64 bit (AMD64)]', 'platform': 'Windows-10-10.0.19044-SP0', 'event': 'prepare_vocab'}\n",
      "INFO: deleting the raw counts dictionary of 5095 items\n",
      "INFO: sample=0.001 downsamples 46 most-common words\n",
      "INFO: Word2Vec lifecycle event {'msg': 'downsampling leaves estimated 156544.24611448316 word corpus (57.2%% of prior 273531)', 'datetime': '2022-05-15T15:31:59.675068', 'gensim': '4.1.2', 'python': '3.9.5 (tags/v3.9.5:0a7dcbd, May  3 2021, 17:27:52) [MSC v.1928 64 bit (AMD64)]', 'platform': 'Windows-10-10.0.19044-SP0', 'event': 'prepare_vocab'}\n",
      "INFO: estimated required memory for 5095 words and 100 dimensions: 6623500 bytes\n",
      "INFO: resetting layer weights\n",
      "INFO: Word2Vec lifecycle event {'update': False, 'trim_rule': 'None', 'datetime': '2022-05-15T15:31:59.773985', 'gensim': '4.1.2', 'python': '3.9.5 (tags/v3.9.5:0a7dcbd, May  3 2021, 17:27:52) [MSC v.1928 64 bit (AMD64)]', 'platform': 'Windows-10-10.0.19044-SP0', 'event': 'build_vocab'}\n",
      "INFO: Word2Vec lifecycle event {'msg': 'training model with 8 workers on 5095 vocabulary and 100 features, using sg=1 hs=0 sample=0.001 negative=25 window=5 shrink_windows=True', 'datetime': '2022-05-15T15:31:59.774982', 'gensim': '4.1.2', 'python': '3.9.5 (tags/v3.9.5:0a7dcbd, May  3 2021, 17:27:52) [MSC v.1928 64 bit (AMD64)]', 'platform': 'Windows-10-10.0.19044-SP0', 'event': 'train'}\n",
      "INFO: worker thread finished; awaiting finish of 7 more threads\n",
      "INFO: worker thread finished; awaiting finish of 6 more threads\n",
      "INFO: worker thread finished; awaiting finish of 5 more threads\n",
      "INFO: worker thread finished; awaiting finish of 4 more threads\n",
      "INFO: worker thread finished; awaiting finish of 3 more threads\n",
      "INFO: worker thread finished; awaiting finish of 2 more threads\n",
      "INFO: worker thread finished; awaiting finish of 1 more threads\n",
      "INFO: worker thread finished; awaiting finish of 0 more threads\n",
      "INFO: EPOCH - 1 : training on 273531 raw words (156452 effective words) took 0.6s, 260661 effective words/s\n",
      "INFO: worker thread finished; awaiting finish of 7 more threads\n",
      "INFO: worker thread finished; awaiting finish of 6 more threads\n",
      "INFO: worker thread finished; awaiting finish of 5 more threads\n",
      "INFO: worker thread finished; awaiting finish of 4 more threads\n",
      "INFO: worker thread finished; awaiting finish of 3 more threads\n",
      "INFO: worker thread finished; awaiting finish of 2 more threads\n",
      "INFO: worker thread finished; awaiting finish of 1 more threads\n",
      "INFO: worker thread finished; awaiting finish of 0 more threads\n",
      "INFO: EPOCH - 2 : training on 273531 raw words (156566 effective words) took 0.6s, 264337 effective words/s\n",
      "INFO: worker thread finished; awaiting finish of 7 more threads\n",
      "INFO: worker thread finished; awaiting finish of 6 more threads\n",
      "INFO: worker thread finished; awaiting finish of 5 more threads\n",
      "INFO: worker thread finished; awaiting finish of 4 more threads\n",
      "INFO: worker thread finished; awaiting finish of 3 more threads\n",
      "INFO: worker thread finished; awaiting finish of 2 more threads\n",
      "INFO: worker thread finished; awaiting finish of 1 more threads\n",
      "INFO: worker thread finished; awaiting finish of 0 more threads\n",
      "INFO: EPOCH - 3 : training on 273531 raw words (156807 effective words) took 0.6s, 269832 effective words/s\n",
      "INFO: worker thread finished; awaiting finish of 7 more threads\n",
      "INFO: worker thread finished; awaiting finish of 6 more threads\n",
      "INFO: worker thread finished; awaiting finish of 5 more threads\n",
      "INFO: worker thread finished; awaiting finish of 4 more threads\n",
      "INFO: worker thread finished; awaiting finish of 3 more threads\n",
      "INFO: worker thread finished; awaiting finish of 2 more threads\n",
      "INFO: worker thread finished; awaiting finish of 1 more threads\n",
      "INFO: worker thread finished; awaiting finish of 0 more threads\n",
      "INFO: EPOCH - 4 : training on 273531 raw words (156473 effective words) took 0.5s, 284958 effective words/s\n",
      "INFO: worker thread finished; awaiting finish of 7 more threads\n",
      "INFO: worker thread finished; awaiting finish of 6 more threads\n",
      "INFO: worker thread finished; awaiting finish of 5 more threads\n",
      "INFO: worker thread finished; awaiting finish of 4 more threads\n",
      "INFO: worker thread finished; awaiting finish of 3 more threads\n",
      "INFO: worker thread finished; awaiting finish of 2 more threads\n",
      "INFO: worker thread finished; awaiting finish of 1 more threads\n",
      "INFO: worker thread finished; awaiting finish of 0 more threads\n",
      "INFO: EPOCH - 5 : training on 273531 raw words (156516 effective words) took 0.6s, 266590 effective words/s\n",
      "INFO: worker thread finished; awaiting finish of 7 more threads\n",
      "INFO: worker thread finished; awaiting finish of 6 more threads\n",
      "INFO: worker thread finished; awaiting finish of 5 more threads\n",
      "INFO: worker thread finished; awaiting finish of 4 more threads\n",
      "INFO: worker thread finished; awaiting finish of 3 more threads\n",
      "INFO: worker thread finished; awaiting finish of 2 more threads\n",
      "INFO: worker thread finished; awaiting finish of 1 more threads\n",
      "INFO: worker thread finished; awaiting finish of 0 more threads\n",
      "INFO: EPOCH - 6 : training on 273531 raw words (156610 effective words) took 0.5s, 305120 effective words/s\n",
      "INFO: worker thread finished; awaiting finish of 7 more threads\n",
      "INFO: worker thread finished; awaiting finish of 6 more threads\n",
      "INFO: worker thread finished; awaiting finish of 5 more threads\n",
      "INFO: worker thread finished; awaiting finish of 4 more threads\n",
      "INFO: worker thread finished; awaiting finish of 3 more threads\n",
      "INFO: worker thread finished; awaiting finish of 2 more threads\n",
      "INFO: worker thread finished; awaiting finish of 1 more threads\n",
      "INFO: worker thread finished; awaiting finish of 0 more threads\n",
      "INFO: EPOCH - 7 : training on 273531 raw words (156526 effective words) took 0.6s, 283633 effective words/s\n",
      "INFO: worker thread finished; awaiting finish of 7 more threads\n",
      "INFO: worker thread finished; awaiting finish of 6 more threads\n",
      "INFO: worker thread finished; awaiting finish of 5 more threads\n",
      "INFO: worker thread finished; awaiting finish of 4 more threads\n",
      "INFO: worker thread finished; awaiting finish of 3 more threads\n",
      "INFO: worker thread finished; awaiting finish of 2 more threads\n",
      "INFO: worker thread finished; awaiting finish of 1 more threads\n",
      "INFO: worker thread finished; awaiting finish of 0 more threads\n",
      "INFO: EPOCH - 8 : training on 273531 raw words (156899 effective words) took 0.5s, 296224 effective words/s\n",
      "INFO: worker thread finished; awaiting finish of 7 more threads\n",
      "INFO: worker thread finished; awaiting finish of 6 more threads\n",
      "INFO: worker thread finished; awaiting finish of 5 more threads\n",
      "INFO: worker thread finished; awaiting finish of 4 more threads\n",
      "INFO: worker thread finished; awaiting finish of 3 more threads\n",
      "INFO: worker thread finished; awaiting finish of 2 more threads\n",
      "INFO: worker thread finished; awaiting finish of 1 more threads\n",
      "INFO: worker thread finished; awaiting finish of 0 more threads\n",
      "INFO: EPOCH - 9 : training on 273531 raw words (156607 effective words) took 0.5s, 303142 effective words/s\n",
      "INFO: worker thread finished; awaiting finish of 7 more threads\n",
      "INFO: worker thread finished; awaiting finish of 6 more threads\n",
      "INFO: worker thread finished; awaiting finish of 5 more threads\n",
      "INFO: worker thread finished; awaiting finish of 4 more threads\n",
      "INFO: worker thread finished; awaiting finish of 3 more threads\n",
      "INFO: worker thread finished; awaiting finish of 2 more threads\n",
      "INFO: worker thread finished; awaiting finish of 1 more threads\n",
      "INFO: worker thread finished; awaiting finish of 0 more threads\n",
      "INFO: EPOCH - 10 : training on 273531 raw words (156595 effective words) took 0.5s, 293890 effective words/s\n",
      "INFO: Word2Vec lifecycle event {'msg': 'training on 2735310 raw words (1566051 effective words) took 5.8s, 270691 effective words/s', 'datetime': '2022-05-15T15:32:05.561409', 'gensim': '4.1.2', 'python': '3.9.5 (tags/v3.9.5:0a7dcbd, May  3 2021, 17:27:52) [MSC v.1928 64 bit (AMD64)]', 'platform': 'Windows-10-10.0.19044-SP0', 'event': 'train'}\n",
      "INFO: Word2Vec lifecycle event {'params': 'Word2Vec(vocab=5095, vector_size=100, alpha=0.025)', 'datetime': '2022-05-15T15:32:05.562407', 'gensim': '4.1.2', 'python': '3.9.5 (tags/v3.9.5:0a7dcbd, May  3 2021, 17:27:52) [MSC v.1928 64 bit (AMD64)]', 'platform': 'Windows-10-10.0.19044-SP0', 'event': 'created'}\n",
      "INFO: Time for learning the language model: 6.152096271514893 seconds\n",
      "INFO: Word2Vec lifecycle event {'fname_or_handle': './cache/output/ontology.embeddings', 'separately': 'None', 'sep_limit': 10485760, 'ignore': frozenset(), 'datetime': '2022-05-15T15:32:05.564401', 'gensim': '4.1.2', 'python': '3.9.5 (tags/v3.9.5:0a7dcbd, May  3 2021, 17:27:52) [MSC v.1928 64 bit (AMD64)]', 'platform': 'Windows-10-10.0.19044-SP0', 'event': 'saving'}\n",
      "INFO: not storing attribute cum_table\n",
      "INFO: saved ./cache/output/ontology.embeddings\n",
      "INFO: storing 5095x100 projection weights into ./cache/output/ontology.embeddings.txt\n"
     ]
    }
   ],
   "source": [
    "from owl2vec_star import owl2vec_star\n",
    "\n",
    "\n",
    "#Parameters:\n",
    "# ontology_file\n",
    "# config_file\n",
    "# uri_doc\n",
    "# lit_doc\n",
    "# mix_doc\n",
    "gensim_model = owl2vec_star.extract_owl2vec_model(\n",
    "    \"C:/Users/sulta/PycharmProjects/RDF_python/cw_ontology.owl\", \"./default.cfg\", True, True, True)\n",
    "\n",
    "output_folder=\"./cache/output/\"\n",
    "\n",
    "#Gensim format\n",
    "gensim_model.save(output_folder+\"ontology.embeddings\")\n",
    "    #Txt format\n",
    "gensim_model.wv.save_word2vec_format(output_folder+\"ontology.embeddings.txt\", binary=False)\n"
   ]
  },
  {
   "cell_type": "markdown",
   "id": "69a78df2",
   "metadata": {},
   "source": [
    "## Loading embeddings and getting similarities"
   ]
  },
  {
   "cell_type": "markdown",
   "id": "fad70234",
   "metadata": {},
   "source": [
    "Config 1\n"
   ]
  },
  {
   "cell_type": "code",
   "execution_count": 4,
   "id": "8fdbcf09",
   "metadata": {},
   "outputs": [],
   "source": [
    "from gensim.models import KeyedVectors\n",
    "\n",
    "#Embedding vectors generated above\n",
    "\n",
    "\n",
    "\n",
    "\n",
    "def config1(wv_):\n",
    "    vector = wv_['Pizza']  # Get numpy vector of a word\n",
    "    print(\"Vector for 'pizza'\")\n",
    "    print(vector)\n",
    "\n",
    "    #cosine similarity\n",
    "    similarity = wv.similarity(\n",
    "        'Pizza', 'http://www.semanticweb.org/in3067-inm713/restaurants#Pizza')\n",
    "    print(similarity)\n",
    "\n",
    "    similarity = wv.similarity(\n",
    "        'MargheritaPizza', 'http://www.semanticweb.org/in3067-inm713/restaurants#MargheritaPizza')\n",
    "    print(similarity)\n",
    "\n",
    "\n",
    "    print(\"Most similar cosine similarity\")\n",
    "    result = wv.most_similar(positive=['margherita', 'pizza'])\n",
    "    print(result)\n",
    "\n",
    "    print(\"Most similar entities: cosmul\")\n",
    "    result = wv.most_similar_cosmul(positive=['margherita'])\n",
    "    print(result)\n"
   ]
  },
  {
   "cell_type": "markdown",
   "id": "d4b8fff2",
   "metadata": {},
   "source": [
    "Config 2"
   ]
  },
  {
   "cell_type": "code",
   "execution_count": 5,
   "id": "b5866e45",
   "metadata": {},
   "outputs": [],
   "source": [
    "def config2(wv_):\n",
    "    vector = wv_['Restaurant']  # Get numpy vector of a word\n",
    "    print(\"Vector for 'Restaurant'\")\n",
    "    print(vector)\n",
    "\n",
    "    #cosine similarity\n",
    "    similarity = wv.similarity(\n",
    "        'Restaurant', 'http://www.semanticweb.org/in3067-inm713/restaurants#Restaurant')\n",
    "    print(similarity)\n",
    "\n",
    "    similarity = wv.similarity(\n",
    "        'LittlePizzaParadise', 'http://www.semanticweb.org/in3067-inm713/restaurants#LittlePizzaParadise')\n",
    "    print(similarity)\n",
    "\n",
    "    print(\"Most similar cosine similarity\")\n",
    "    result = wv.most_similar(positive=['LittlePizzaParadise', 'Restaurant'])\n",
    "    print(result)\n",
    "\n",
    "    print(\"Most similar entities: cosmul\")\n",
    "    result = wv.most_similar_cosmul(positive=['LittlePizzaParadise'])\n",
    "    print(result)\n",
    "\n",
    "    "
   ]
  },
  {
   "cell_type": "markdown",
   "id": "d58873a5",
   "metadata": {},
   "source": [
    "Config 3"
   ]
  },
  {
   "cell_type": "code",
   "execution_count": 6,
   "id": "8d615a79",
   "metadata": {},
   "outputs": [],
   "source": [
    "def config3(wv_):\n",
    "    vector = wv_['Ingredient']  # Get numpy vector of a word\n",
    "    print(\"Vector for 'Ingredient'\")\n",
    "    print(vector)\n",
    "\n",
    "    #cosine similarity\n",
    "    similarity = wv.similarity(\n",
    "        'Ingredient', 'http://www.semanticweb.org/in3067-inm713/restaurants#Ingredient')\n",
    "    print(similarity)\n",
    "\n",
    "    similarity = wv.similarity(\n",
    "        'olive', 'http://www.semanticweb.org/in3067-inm713/restaurants#MenuItem')\n",
    "    print(similarity)\n",
    "\n",
    "    print(\"Most similar cosine similarity\")\n",
    "    result = wv.most_similar(positive=['olive', 'Ingredient'])\n",
    "    print(result)\n",
    "\n",
    "    print(\"Most similar entities: cosmul\")\n",
    "    result = wv.most_similar_cosmul(positive=['olive'])\n",
    "    print(result)\n"
   ]
  },
  {
   "cell_type": "markdown",
   "id": "29ae098d",
   "metadata": {},
   "source": [
    "Calling the function"
   ]
  },
  {
   "cell_type": "code",
   "execution_count": 7,
   "id": "6bb98d8a",
   "metadata": {},
   "outputs": [
    {
     "name": "stderr",
     "output_type": "stream",
     "text": [
      "INFO: loading KeyedVectors object from ./cache/output/ontology.embeddings\n",
      "INFO: loading wv recursively from ./cache/output/ontology.embeddings.wv.* with mmap=r\n",
      "INFO: setting ignored attribute cum_table to None\n",
      "INFO: Word2Vec lifecycle event {'fname': './cache/output/ontology.embeddings', 'datetime': '2022-05-15T15:32:21.814271', 'gensim': '4.1.2', 'python': '3.9.5 (tags/v3.9.5:0a7dcbd, May  3 2021, 17:27:52) [MSC v.1928 64 bit (AMD64)]', 'platform': 'Windows-10-10.0.19044-SP0', 'event': 'loaded'}\n"
     ]
    },
    {
     "name": "stdout",
     "output_type": "stream",
     "text": [
      "CONFIG 2\n",
      "Vector for 'Restaurant'\n",
      "[ 0.14913888 -0.08145955 -0.13099355 -0.11808477  0.10504603  0.07593148\n",
      "  0.06109302  0.14520068  0.14134632 -0.01895748 -0.29598495  0.17286937\n",
      "  0.06836984  0.07537259 -0.09245436 -0.18218668  0.05806181 -0.20367335\n",
      " -0.12152354 -0.0774959   0.10781138  0.06120387 -0.09452365  0.12798335\n",
      "  0.02353987  0.20647652 -0.19093148 -0.00677776 -0.2442077  -0.09320243\n",
      " -0.03337624  0.00649603  0.09753197 -0.07844415  0.14674084  0.00100705\n",
      "  0.15203717 -0.25225678 -0.10247306  0.06747741  0.13101208  0.05309144\n",
      "  0.14664611 -0.18786861 -0.02187671  0.01082761  0.07827949  0.08732313\n",
      "  0.25624755 -0.12689172 -0.00325056 -0.13367502 -0.01745981 -0.03206746\n",
      " -0.01716282  0.16171038 -0.27924278  0.00353215 -0.12621479  0.10241409\n",
      " -0.09857082  0.08396193 -0.29914004 -0.02221043  0.04038116  0.12037756\n",
      "  0.05904282 -0.13771415 -0.23589893 -0.05015653 -0.34369567 -0.16295287\n",
      "  0.07544201 -0.1187745   0.21409148 -0.0069987  -0.02492481 -0.09891275\n",
      " -0.02701809 -0.18073975  0.20418298 -0.30625623  0.1058742   0.26272923\n",
      " -0.02661942  0.01522164 -0.041272   -0.10338331 -0.07270445  0.17124788\n",
      " -0.06861445  0.10809397  0.21512643 -0.07481285  0.22453873 -0.09809653\n",
      "  0.06106854 -0.0247307  -0.08113906  0.00181729]\n",
      "0.5095673\n",
      "0.8930643\n",
      "Most similar cosine similarity\n",
      "[('RoadhouseCafe', 0.9920945763587952), ('ArtCafe', 0.9917335510253906), ('KyotoSushi', 0.9912950396537781), ('GatehouseRestaurant', 0.9912126660346985), ('LarosasPizzeria', 0.9911585450172424), ('TheMeltingPotWhitePlains', 0.9908953309059143), ('BrioTuscanGrilleSouthlakeSouthlakeTownSquare', 0.9907921552658081), ('ChenasAlaskanGrill', 0.9907230138778687), ('TascalisDecadesPastaGrill', 0.9907124638557434), ('LouiesPizza', 0.9905142784118652)]\n",
      "Most similar entities: cosmul\n",
      "[('BaldinelliPizza', 0.9974499940872192), ('TheMeltingPotWhitePlains', 0.9972863793373108), ('BrioTuscanGrilleSouthlakeSouthlakeTownSquare', 0.996931791305542), ('TavernOnTheSquare', 0.996832013130188), ('GatehouseRestaurant', 0.9967325925827026), ('CopelandsCheescakeBistro', 0.9967131614685059), ('CharliesAmericanGrillSpirits', 0.9966472387313843), ('WoolworthTowerKitchen', 0.9965310096740723), ('Keyme', 0.9965270757675171), ('KyotoSushi', 0.9964667558670044)]\n"
     ]
    }
   ],
   "source": [
    "model = KeyedVectors.load(\"./cache/output/ontology.embeddings\", mmap='r')\n",
    "wv = model.wv\n",
    "\n",
    "# print(\"CONFIG 1\")\n",
    "# config1(wv)\n",
    "\n",
    "print(\"CONFIG 2\")\n",
    "config2(wv)\n",
    "\n",
    "# print(\"CONFIG 3\")\n",
    "# config3(wv)\n",
    "\n"
   ]
  },
  {
   "cell_type": "markdown",
   "id": "f7e134d5",
   "metadata": {},
   "source": [
    "K-Means Clustering"
   ]
  },
  {
   "cell_type": "code",
   "execution_count": 80,
   "id": "6b8fc1a0",
   "metadata": {},
   "outputs": [
    {
     "name": "stdout",
     "output_type": "stream",
     "text": [
      "Collecting sklearn\n",
      "  Using cached sklearn-0.0-py2.py3-none-any.whl\n",
      "Requirement already satisfied: scikit-learn in c:\\users\\sulta\\appdata\\local\\programs\\python\\python39\\lib\\site-packages (from sklearn) (1.1.0)\n",
      "Requirement already satisfied: scipy>=1.3.2 in c:\\users\\sulta\\appdata\\local\\programs\\python\\python39\\lib\\site-packages (from scikit-learn->sklearn) (1.8.0)\n",
      "Requirement already satisfied: numpy>=1.17.3 in c:\\users\\sulta\\appdata\\local\\programs\\python\\python39\\lib\\site-packages (from scikit-learn->sklearn) (1.22.3)\n",
      "Requirement already satisfied: threadpoolctl>=2.0.0 in c:\\users\\sulta\\appdata\\local\\programs\\python\\python39\\lib\\site-packages (from scikit-learn->sklearn) (3.1.0)\n",
      "Requirement already satisfied: joblib>=1.0.0 in c:\\users\\sulta\\appdata\\local\\programs\\python\\python39\\lib\\site-packages (from scikit-learn->sklearn) (1.1.0)\n",
      "Installing collected packages: sklearn\n",
      "Successfully installed sklearn-0.0\n",
      "Note: you may need to restart the kernel to use updated packages.\n"
     ]
    },
    {
     "name": "stderr",
     "output_type": "stream",
     "text": [
      "WARNING: You are using pip version 22.0.4; however, version 22.1 is available.\n",
      "You should consider upgrading via the 'c:\\Users\\sulta\\AppData\\Local\\Programs\\Python\\Python39\\python.exe -m pip install --upgrade pip' command.\n"
     ]
    }
   ],
   "source": [
    "pip install sklearn\n"
   ]
  },
  {
   "cell_type": "code",
   "execution_count": 102,
   "metadata": {},
   "outputs": [
    {
     "name": "stdout",
     "output_type": "stream",
     "text": [
      "Collecting matplotlib\n",
      "  Downloading matplotlib-3.5.2-cp39-cp39-win_amd64.whl (7.2 MB)\n",
      "     ---------------------------------------- 7.2/7.2 MB 7.8 MB/s eta 0:00:00\n",
      "Collecting pillow>=6.2.0\n",
      "  Using cached Pillow-9.1.0-cp39-cp39-win_amd64.whl (3.3 MB)\n",
      "Requirement already satisfied: pyparsing>=2.2.1 in c:\\users\\sulta\\appdata\\local\\programs\\python\\python39\\lib\\site-packages (from matplotlib) (3.0.8)\n",
      "Requirement already satisfied: packaging>=20.0 in c:\\users\\sulta\\appdata\\local\\programs\\python\\python39\\lib\\site-packages (from matplotlib) (21.3)\n",
      "Collecting kiwisolver>=1.0.1\n",
      "  Using cached kiwisolver-1.4.2-cp39-cp39-win_amd64.whl (55 kB)\n",
      "Collecting cycler>=0.10\n",
      "  Using cached cycler-0.11.0-py3-none-any.whl (6.4 kB)\n",
      "Requirement already satisfied: python-dateutil>=2.7 in c:\\users\\sulta\\appdata\\local\\programs\\python\\python39\\lib\\site-packages (from matplotlib) (2.8.2)\n",
      "Requirement already satisfied: numpy>=1.17 in c:\\users\\sulta\\appdata\\local\\programs\\python\\python39\\lib\\site-packages (from matplotlib) (1.22.3)\n",
      "Collecting fonttools>=4.22.0\n",
      "  Using cached fonttools-4.33.3-py3-none-any.whl (930 kB)\n",
      "Requirement already satisfied: six>=1.5 in c:\\users\\sulta\\appdata\\local\\programs\\python\\python39\\lib\\site-packages (from python-dateutil>=2.7->matplotlib) (1.16.0)\n",
      "Installing collected packages: pillow, kiwisolver, fonttools, cycler, matplotlib\n",
      "Successfully installed cycler-0.11.0 fonttools-4.33.3 kiwisolver-1.4.2 matplotlib-3.5.2 pillow-9.1.0\n",
      "Note: you may need to restart the kernel to use updated packages.\n"
     ]
    },
    {
     "name": "stderr",
     "output_type": "stream",
     "text": [
      "WARNING: You are using pip version 22.0.4; however, version 22.1 is available.\n",
      "You should consider upgrading via the 'c:\\Users\\sulta\\AppData\\Local\\Programs\\Python\\Python39\\python.exe -m pip install --upgrade pip' command.\n"
     ]
    }
   ],
   "source": [
    "pip install matplotlib"
   ]
  },
  {
   "cell_type": "code",
   "execution_count": 10,
   "id": "527e05ce",
   "metadata": {},
   "outputs": [
    {
     "name": "stdout",
     "output_type": "stream",
     "text": [
      "<class 'numpy.ndarray'>\n",
      "[[ 5.25625311e-02  1.60374548e-02 -1.90081313e-01]\n",
      " [-6.51602522e-02  3.53550538e-02  4.20889184e-02]\n",
      " [ 1.86915174e-02  1.46560237e-01  1.94336206e-01]\n",
      " [ 3.49620581e-02 -2.96699613e-01  1.94190562e-01]\n",
      " [ 1.05313219e-01  6.50399700e-02 -5.48941940e-02]\n",
      " [-2.08397806e-01  2.50645634e-02 -1.34800121e-01]\n",
      " [-1.44123226e-01 -1.34301543e-01  1.32547200e-01]\n",
      " [ 5.38531393e-02 -8.38033929e-02  1.77670315e-01]\n",
      " [-3.44262039e-03  1.42326578e-01 -1.64615288e-01]\n",
      " [ 2.92726215e-02 -1.61296353e-01  1.42329456e-02]\n",
      " [-5.38966246e-02 -2.75656488e-02  6.35563284e-02]\n",
      " [-2.10852530e-02  1.33760437e-01 -3.34214623e-04]\n",
      " [ 1.50257319e-01 -2.95027018e-01 -1.35206103e-01]\n",
      " [ 1.27407417e-01  1.27638727e-01  2.54839398e-02]\n",
      " [ 1.60907105e-01 -1.79229975e-01  1.91241521e-02]\n",
      " [ 7.32025653e-02  8.00530016e-02  5.25642149e-02]\n",
      " [ 2.21469447e-01 -1.35386556e-01 -8.06636065e-02]\n",
      " [-1.53270066e-01 -4.67878133e-02 -3.18701677e-02]\n",
      " [-5.38293645e-02  1.67143837e-01 -2.15782121e-01]\n",
      " [ 3.26981582e-02 -1.26543418e-01  1.47757038e-01]\n",
      " [-1.34358838e-01  1.19582027e-01 -2.91317642e-01]\n",
      " [ 4.20828396e-03 -1.06024451e-03  1.18964985e-01]\n",
      " [ 6.16983362e-02 -1.99109182e-01 -2.24256992e-01]\n",
      " [-5.38449548e-02 -3.71150374e-01 -2.08703548e-01]\n",
      " [ 3.46962847e-02 -1.05052330e-01  1.65948808e-01]\n",
      " [-4.48308848e-02 -2.00623553e-02 -1.25450581e-01]\n",
      " [-3.91154736e-02 -1.53901234e-01  2.02348471e-01]\n",
      " [-3.31473947e-01  7.72008970e-02  2.13066697e-01]\n",
      " [ 3.45649682e-02  3.33215785e-03  1.67760893e-03]\n",
      " [-9.99153852e-02 -5.28647974e-02  1.49488330e-01]\n",
      " [-5.87360002e-02  1.37694821e-01  1.39751568e-01]\n",
      " [-9.67327356e-02  1.95506990e-01 -9.72300619e-02]\n",
      " [ 6.14882261e-02 -5.98930046e-02 -5.92003763e-02]\n",
      " [-5.71718290e-02  1.49138883e-01 -8.14595520e-02]\n",
      " [-1.30993545e-01 -1.18084773e-01  1.05046026e-01]\n",
      " [ 7.59314820e-02  6.10930175e-02  1.45200685e-01]\n",
      " [ 1.41346321e-01 -1.89574789e-02 -2.95984954e-01]\n",
      " [ 1.72869369e-01  6.83698431e-02  7.53725916e-02]\n",
      " [-9.24543589e-02 -1.82186678e-01  5.80618121e-02]\n",
      " [-2.03673348e-01 -1.21523544e-01 -7.74958953e-02]\n",
      " [ 1.07811376e-01  6.12038672e-02 -9.45236534e-02]\n",
      " [ 1.27983347e-01  2.35398747e-02  2.06476524e-01]\n",
      " [-1.90931484e-01 -6.77775964e-03 -2.44207695e-01]\n",
      " [-9.32024345e-02 -3.33762355e-02  6.49602991e-03]\n",
      " [ 9.75319743e-02 -7.84441531e-02  1.46740839e-01]\n",
      " [ 1.00704632e-03  1.52037174e-01 -2.52256781e-01]\n",
      " [-1.02473058e-01  6.74774125e-02  1.31012082e-01]\n",
      " [ 5.30914403e-02  1.46646112e-01 -1.87868610e-01]\n",
      " [-2.18767133e-02  1.08276065e-02  7.82794878e-02]\n",
      " [ 8.73231292e-02  2.56247550e-01 -1.26891717e-01]\n",
      " [-3.25055630e-03 -1.33675024e-01 -1.74598079e-02]\n",
      " [-3.20674591e-02 -1.71628166e-02  1.61710382e-01]\n",
      " [-2.79242784e-01  3.53215123e-03 -1.26214787e-01]\n",
      " [ 1.02414086e-01 -9.85708237e-02  8.39619339e-02]\n",
      " [-2.99140036e-01 -2.22104266e-02  4.03811596e-02]\n",
      " [ 1.20377563e-01  5.90428188e-02 -1.37714148e-01]\n",
      " [-2.35898927e-01 -5.01565263e-02 -3.43695670e-01]\n",
      " [-1.62952870e-01  7.54420087e-02 -1.18774496e-01]\n",
      " [ 2.14091480e-01 -6.99869636e-03 -2.49248110e-02]\n",
      " [-9.89127532e-02 -2.70180944e-02 -1.80739745e-01]\n",
      " [ 2.04182982e-01 -3.06256235e-01  1.05874196e-01]\n",
      " [ 2.62729228e-01 -2.66194195e-02  1.52216423e-02]\n",
      " [-4.12719958e-02 -1.03383310e-01 -7.27044493e-02]\n",
      " [ 1.71247885e-01 -6.86144531e-02  1.08093970e-01]\n",
      " [ 2.15126425e-01 -7.48128518e-02  2.24538729e-01]\n",
      " [-9.80965346e-02  6.10685386e-02 -2.47306954e-02]\n",
      " [-8.11390579e-02  1.81728799e-03  8.16103444e-02]\n",
      " [-1.85802430e-02 -1.81205183e-01 -1.59308791e-01]\n",
      " [ 9.62320790e-02  7.34922960e-02  3.21763493e-02]\n",
      " [ 1.06697693e-01  2.35570043e-01  3.85771655e-02]\n",
      " [-3.29016685e-01  2.19370440e-01  1.73456073e-01]\n",
      " [ 5.85670732e-02 -7.63567761e-02 -2.02197850e-01]\n",
      " [ 4.37052511e-02 -1.68655902e-01 -1.22425728e-01]\n",
      " [-1.45828679e-01  1.04054414e-01  3.84051949e-02]\n",
      " [-9.21344906e-02  1.73209712e-01 -1.82161247e-03]\n",
      " [ 1.89465463e-01 -1.67887181e-01  6.60083145e-02]\n",
      " [-1.88460231e-01 -1.43904025e-02  8.72613583e-03]\n",
      " [-1.84293359e-03  8.94839689e-02 -5.59520014e-02]\n",
      " [ 1.63456574e-01 -7.53100670e-04  1.37667358e-01]\n",
      " [-3.24388415e-01 -1.85171753e-01  1.35308206e-01]\n",
      " [ 1.43720761e-01  6.90687895e-02  1.96852177e-01]\n",
      " [-2.27934599e-01  5.75805409e-03  9.73057076e-02]\n",
      " [ 6.46934062e-02  1.13799181e-02  2.53375411e-01]\n",
      " [-1.14895545e-01 -3.09739970e-02 -1.60303384e-01]\n",
      " [-5.45117073e-02 -3.83184329e-02 -4.17948067e-02]\n",
      " [ 2.07983360e-01 -1.95124298e-01  6.56228140e-02]\n",
      " [-1.54747084e-01  1.51465774e-01 -1.72878131e-01]\n",
      " [ 1.44025713e-01 -3.56509179e-01  1.22180171e-02]\n",
      " [ 1.73798129e-02  1.44342676e-01  5.31779006e-02]\n",
      " [-1.76916942e-01 -2.53490746e-01 -5.48188128e-02]\n",
      " [-4.34900701e-01 -2.39309624e-01  4.35816720e-02]\n",
      " [-8.71340781e-02  2.07273409e-01 -4.71921116e-02]\n",
      " [-1.00716148e-02 -1.30429372e-01 -6.00175858e-02]\n",
      " [-1.48413256e-01  2.40969166e-01 -3.94346714e-01]\n",
      " [ 9.39948037e-02  2.89260060e-01  3.09884623e-02]\n",
      " [ 4.20786738e-02 -2.23000310e-02 -1.44807383e-01]\n",
      " [-1.03777431e-01  2.05052420e-01 -8.78495052e-02]\n",
      " [ 1.65061444e-01  2.19824538e-01 -9.04420242e-02]\n",
      " [ 1.83637947e-01 -1.04785509e-01  7.91837499e-02]\n",
      " [-9.17556435e-02 -1.03557013e-01 -7.61711001e-02]]\n",
      "[3 0 0 4 0 3 2 4 3 1 2 0 1 0 4 0 1 2 3 4 3 4 1 1 4 3 4 2 0 2 0 0 1 0 2 4 3\n",
      " 4 1 2 0 4 3 2 4 3 2 0 0 0 1 4 3 4 2 0 3 3 4 3 4 4 1 4 4 0 2 1 0 0 2 1 1 2\n",
      " 0 4 2 0 4 2 4 2 4 3 1 4 3 1 0 1 2 0 1 3 0 1 0 0 4 1]\n",
      "Score: -2.3798208236694336\n"
     ]
    },
    {
     "data": {
      "image/png": "[encoded data removed]",
      "text/plain": [
       "<Figure size 432x288 with 1 Axes>"
      ]
     },
     "metadata": {
      "needs_background": "light"
     },
     "output_type": "display_data"
    }
   ],
   "source": [
    "from sklearn.cluster import KMeans\n",
    "import matplotlib.pyplot as plt\n",
    "import numpy as np\n",
    "\n",
    "\n",
    "a = wv['LittlePizzaParadise', 'Restaurant', 'Zpizza']\n",
    "print(type(a))\n",
    "a = a.flatten()\n",
    "a = a.reshape(-1,3)\n",
    "print(a)\n",
    "\n",
    "x = np.array(a)\n",
    "kmeans = KMeans(n_clusters=5, random_state=7)\n",
    "\n",
    "predfit = kmeans.fit_predict(x)\n",
    "print(predfit)\n",
    "kmeans.cluster_centers_\n",
    "\n",
    "plt.scatter(x[predfit == 0, 0], x[predfit == 0, 1],\n",
    "            s=100, c='red', label='Cluster 1')\n",
    "plt.scatter(x[predfit == 1, 0], x[predfit == 1, 1],\n",
    "            s=100, c='blue', label='Cluster 2')\n",
    "plt.scatter(x[predfit == 2, 0], x[predfit == 2, 1],\n",
    "            s=100, c='green', label='Cluster 3')\n",
    "plt.scatter(x[predfit == 3, 0], x[predfit == 3, 1],\n",
    "            s=100, c='cyan', label='Cluster 4')\n",
    "plt.scatter(x[predfit == 4, 0], x[predfit == 4, 1],\n",
    "            s=100, c='magenta', label='Cluster 5')\n",
    "\n",
    "\n",
    "plt.scatter(kmeans.cluster_centers_[:, 0], kmeans.cluster_centers_[\n",
    "            :, 1], s=150, c='yellow')\n",
    "\n",
    "\n",
    "print(\"Score: {}\".format(kmeans.score(x)))\n"
   ]
  }
 ],
 "metadata": {
  "interpreter": {
   "hash": "6499dcc6770c007b321bf9c19301b0f80f0dabaebca094f52179f45ac48f8a17"
  },
  "kernelspec": {
   "display_name": "Python 3.9.5 64-bit",
   "language": "python",
   "name": "python3"
  },
  "language_info": {
   "codemirror_mode": {
    "name": "ipython",
    "version": 3
   },
   "file_extension": ".py",
   "mimetype": "text/x-python",
   "name": "python",
   "nbconvert_exporter": "python",
   "pygments_lexer": "ipython3",
   "version": "3.9.5"
  }
 },
 "nbformat": 4,
 "nbformat_minor": 5
}
